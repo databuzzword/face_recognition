{
 "cells": [
  {
   "cell_type": "markdown",
   "metadata": {},
   "source": [
    "## Face search demo using OpenDistro knn and machine learning.\n",
    "inspired from https://github.com/colorzhang/face-search\n",
    "\n",
    "High level steps:\n",
    "\n",
    "1. face detection and feature extraction\n",
    "2. feature vector index in ES\n",
    "3. 1:N vector search"
   ]
  },
  {
   "cell_type": "markdown",
   "metadata": {},
   "source": [
    "## Detect face and extact features"
   ]
  },
  {
   "cell_type": "code",
   "execution_count": 63,
   "metadata": {},
   "outputs": [],
   "source": [
    "%matplotlib inline\n",
    "import math\n",
    "import os\n",
    "import os.path\n",
    "\n",
    "import face_recognition\n",
    "from face_recognition.face_recognition_cli import image_files_in_folder\n",
    "\n",
    "import ssl\n",
    "\n",
    "from elasticsearch import Elasticsearch\n",
    "from elasticsearch.connection import create_ssl_context\n",
    "\n",
    "import matplotlib.pyplot as plt \n",
    "import matplotlib.image as mpimg\n",
    "from matplotlib.pyplot import imshow\n",
    "\n",
    "from PIL import Image\n",
    "import PIL.Image\n",
    "from IPython import display\n",
    "import cv2\n",
    "\n",
    "from io import BytesIO\n",
    "import io\n",
    "\n",
    "import base64\n",
    "from base64 import b64decode\n",
    "\n",
    "import numpy as np\n",
    "\n",
    "import re\n",
    "\n",
    "from tqdm import tqdm\n"
   ]
  },
  {
   "cell_type": "code",
   "execution_count": 64,
   "metadata": {},
   "outputs": [
    {
     "name": "stderr",
     "output_type": "stream",
     "text": [
      "/opt/conda/lib/python3.7/site-packages/elasticsearch/connection/http_urllib3.py:159: UserWarning: When using `ssl_context`, all other SSL related kwargs are ignored\n",
      "  \"When using `ssl_context`, all other SSL related kwargs are ignored\"\n"
     ]
    }
   ],
   "source": [
    "ssl_context = create_ssl_context()\n",
    "ssl_context.check_hostname = False\n",
    "ssl_context.verify_mode = ssl.CERT_NONE\n",
    "    \n",
    "es = Elasticsearch(hosts=[{'host': '127.0.0.1', 'port': 9200}],\n",
    "                   scheme=\"https\",\n",
    "                   verify_certs=False,\n",
    "                   ssl_context=ssl_context, \n",
    "                   http_auth=('admin', 'admin')\n",
    "                  )"
   ]
  },
  {
   "cell_type": "code",
   "execution_count": 65,
   "metadata": {},
   "outputs": [],
   "source": [
    "def convertTobase64(filename):\n",
    "    # Convert digital data to binary format\n",
    "    with open(filename, \"rb\") as image_file:\n",
    "        encoded_string = base64.b64encode(image_file.read())\n",
    "    return encoded_string"
   ]
  },
  {
   "cell_type": "code",
   "execution_count": 66,
   "metadata": {},
   "outputs": [],
   "source": [
    "def display_img(img_path):\n",
    "    image = plt.imread(img_path)\n",
    "\n",
    "    fig, ax = plt.subplots(figsize=(16,8))\n",
    "    ax.imshow(image)\n",
    "    ax.axis('off')"
   ]
  },
  {
   "cell_type": "code",
   "execution_count": 67,
   "metadata": {},
   "outputs": [],
   "source": [
    "def display_base64img(base64_string):\n",
    "    i = base64.b64decode(base64_string)\n",
    "    i = io.BytesIO(i)\n",
    "    i = mpimg.imread(i, format='JPG')\n",
    "    plt.imshow(i, interpolation='nearest')\n",
    "    plt.show()"
   ]
  },
  {
   "cell_type": "code",
   "execution_count": 68,
   "metadata": {},
   "outputs": [],
   "source": [
    "def display_crop(area, img):\n",
    "    top, right, bottom, left = area\n",
    "    imag = PIL.Image.open(img)\n",
    "    cropped_img = imag.crop((left, top, right, bottom))\n",
    "    plt.imshow(cropped_img, interpolation='nearest')\n",
    "    plt.show()\n",
    "    imshow(np.asarray(cropped_img))"
   ]
  },
  {
   "cell_type": "code",
   "execution_count": 89,
   "metadata": {},
   "outputs": [],
   "source": [
    "def extract_features(train_dir):\n",
    "    X = []\n",
    "    y = []\n",
    "    img_paths = []\n",
    "    countries = []\n",
    "    functions = []\n",
    "    names = []\n",
    "    # remember file is train/country_function_name/file.jpg\n",
    "    file_regex = r\"(.*)_(.*)_(.*)*\"\n",
    "    # Loop through each person in the training set\n",
    "    pbar = tqdm(os.listdir(train_dir))\n",
    "    for class_dir in pbar:\n",
    "        if not os.path.isdir(os.path.join(train_dir, class_dir)):\n",
    "            continue\n",
    "        pbar.set_description(f\"Processing {class_dir}\")\n",
    "        matches = re.match(file_regex, class_dir, re.MULTILINE)\n",
    "        \n",
    "        country = matches[1]\n",
    "        function = matches[2]\n",
    "        name = matches[3]\n",
    "        \n",
    "        # Loop through each training image for the current person\n",
    "        for img_path in image_files_in_folder(os.path.join(train_dir, class_dir)):\n",
    "\n",
    "            image = face_recognition.load_image_file(img_path)\n",
    "            face_bounding_boxes = face_recognition.face_locations(image)\n",
    "\n",
    "            if len(face_bounding_boxes) != 1:\n",
    "                pass\n",
    "                # If there are no people (or too many people) in a training image, skip the image.\n",
    "                # print(\"Image {} not suitable for training: {}\".format(img_path, \"Didn't find a face\" if len(face_bounding_boxes) < 1 else \"Found more than one face\"))\n",
    "            else:\n",
    "                # Add face encoding for current image to the training set\n",
    "                X.append(face_recognition.face_encodings(image, known_face_locations=face_bounding_boxes)[0])\n",
    "                y.append(class_dir)\n",
    "                img_paths.append(img_path)\n",
    "                countries.append(country)\n",
    "                functions.append(function)\n",
    "                names.append(name)\n",
    "        \n",
    "    return X, y, img_paths, countries, functions, names"
   ]
  },
  {
   "cell_type": "code",
   "execution_count": 84,
   "metadata": {},
   "outputs": [],
   "source": [
    "def es_create_index(idx_name=\"idx_faces\"):\n",
    "    #Define KNN Elasticsearch index maping\n",
    "    knn_index = {\n",
    "        \"settings\": {\n",
    "            \"index.knn\": True\n",
    "        },\n",
    "        \"mappings\": {\n",
    "            \"properties\": {\n",
    "                \"face_img_vector\": {\n",
    "                    \"type\": \"knn_vector\",\n",
    "                    \"dimension\": 128\n",
    "                }\n",
    "            }\n",
    "        }\n",
    "    }\n",
    "\n",
    "    #Creating the Elasticsearch index\n",
    "    es.indices.create(index=idx_name, body=knn_index, ignore=400)\n",
    "    es.indices.get(index=idx_name)"
   ]
  },
  {
   "cell_type": "code",
   "execution_count": 85,
   "metadata": {},
   "outputs": [],
   "source": [
    "def es_import(element, idx_name=\"idx_faces\"):\n",
    "    es.index(index=idx_name,\n",
    "             body={\"face_img_vector\": element[0], \n",
    "                   \"class\": element[1],\n",
    "                   \"img_path\": element[2],\n",
    "                   \"country\": element[3],\n",
    "                   \"function_type\": element[4],\n",
    "                   \"name\": element[5],\n",
    "                   \"base64\": convertTobase64(element[2])\n",
    "                  },\n",
    "            ignore=400)"
   ]
  },
  {
   "cell_type": "code",
   "execution_count": 86,
   "metadata": {},
   "outputs": [],
   "source": [
    "def es_clean(idx_name=\"idx_faces\"):\n",
    "    res = es.delete_by_query(index=idx_name, body={\"query\": {\"match_all\": {}}})\n",
    "    return res"
   ]
  },
  {
   "cell_type": "code",
   "execution_count": 87,
   "metadata": {},
   "outputs": [],
   "source": [
    "def es_search_face(face_feature, top_k=1, idx_name=\"idx_faces\"):\n",
    "    res = es.search(request_timeout=30, \n",
    "                    index=idx_name,\n",
    "                    body={'size': top_k, \n",
    "                          'query': {\n",
    "                              'knn': {\n",
    "                                  'face_img_vector': {\n",
    "                                      'vector': face_feature, \n",
    "                                      'k': top_k\n",
    "                                  }\n",
    "                              }\n",
    "                          }\n",
    "                         },\n",
    "                    ignore=400)"
   ]
  },
  {
   "cell_type": "code",
   "execution_count": null,
   "metadata": {
    "tags": []
   },
   "outputs": [
    {
     "name": "stderr",
     "output_type": "stream",
     "text": [
      "Processing russia_pm_dmitriy-anatolyevich-medvedev:   1%|          | 1/168 [00:04<13:09,  4.73s/it]           "
     ]
    }
   ],
   "source": [
    "TRAIN_DIR = \"train\"\n",
    "vectors, classes, img_paths, countries, functions, names = extract_features(TRAIN_DIR)\n",
    "print(classes)\n",
    "print(img_paths)\n",
    "print(countries)\n",
    "print(functions)\n",
    "print(names)\n",
    "print(len(vectors[0]))"
   ]
  },
  {
   "cell_type": "code",
   "execution_count": null,
   "metadata": {},
   "outputs": [],
   "source": [
    "for vectors, names, img_paths, countries, functions in zip(vectors, classes, img_paths, countries, functions, names):\n",
    "    # print(vector, name)\n",
    "    es_import([vectors, names, img_paths, countries, functions, names])"
   ]
  },
  {
   "cell_type": "markdown",
   "metadata": {},
   "source": [
    "## 1:N face search"
   ]
  },
  {
   "cell_type": "code",
   "execution_count": null,
   "metadata": {},
   "outputs": [],
   "source": [
    "test_img_path = 'G7.jpeg'\n",
    "display_img(test_img_path)\n",
    "\n",
    "image = face_recognition.load_image_file(test_img_path)\n",
    "face_bounding_boxes = face_recognition.face_locations(image)\n",
    "\n",
    "face_features = face_recognition.face_encodings(image, known_face_locations=face_bounding_boxes)"
   ]
  },
  {
   "cell_type": "code",
   "execution_count": null,
   "metadata": {},
   "outputs": [],
   "source": []
  },
  {
   "cell_type": "code",
   "execution_count": null,
   "metadata": {
    "tags": []
   },
   "outputs": [],
   "source": [
    "k = 1\n",
    "DISTANCE_THRESHHOLD = 0.5\n",
    "idx_name = 'idx_faces'\n",
    "for idx, face_feature in enumerate(face_features):\n",
    "    print(f\"################ FACE #{idx} #######\")\n",
    "    display_crop(face_bounding_boxes[idx], test_img_path)\n",
    "    res = es_search_face(face_feature)\n",
    "    print(\"Return top 1 with score: %s\" % res['hits']['max_score'])\n",
    "\n",
    "    if (res['hits']['hits'][0]['_score'] >= DISTANCE_THRESHHOLD):\n",
    "        print(\"Found %s\" % res['hits']['hits'][0]['_source']['name'])\n",
    "#        display_img(res['hits']['hits'][0]['_source']['base64'])\n",
    "        display_base64img(res['hits']['hits'][0]['_source']['base64'])\n",
    "        \n",
    "    else:\n",
    "        print(\"No faces found in DB.\")"
   ]
  },
  {
   "cell_type": "code",
   "execution_count": null,
   "metadata": {
    "tags": []
   },
   "outputs": [],
   "source": []
  },
  {
   "cell_type": "code",
   "execution_count": null,
   "metadata": {},
   "outputs": [],
   "source": []
  }
 ],
 "metadata": {
  "kernelspec": {
   "display_name": "Python 3",
   "language": "python",
   "name": "python3"
  },
  "language_info": {
   "codemirror_mode": {
    "name": "ipython",
    "version": 3
   },
   "file_extension": ".py",
   "mimetype": "text/x-python",
   "name": "python",
   "nbconvert_exporter": "python",
   "pygments_lexer": "ipython3",
   "version": "3.7.6"
  }
 },
 "nbformat": 4,
 "nbformat_minor": 4
}
